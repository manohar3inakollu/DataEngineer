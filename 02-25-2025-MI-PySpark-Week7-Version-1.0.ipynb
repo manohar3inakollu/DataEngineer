{
 "cells": [
  {
   "cell_type": "code",
   "execution_count": 1,
   "id": "4fff8573",
   "metadata": {},
   "outputs": [],
   "source": [
    "from pyspark.sql import SparkSession\n",
    "import getpass\n",
    "username = getpass.getuser()\n",
    "spark = SparkSession. \\\n",
    "builder. \\\n",
    "config('spark.ui.port','0'). \\\n",
    "config(\"spark.sql.warehouse.dir\", f\"/user/itv014453/warehouse\"). \\\n",
    "enableHiveSupport(). \\\n",
    "master('yarn'). \\\n",
    "getOrCreate()"
   ]
  },
  {
   "cell_type": "code",
   "execution_count": 2,
   "id": "e562ef71",
   "metadata": {},
   "outputs": [
    {
     "name": "stdout",
     "output_type": "stream",
     "text": [
      "1001,2023-05-15,1001,49.99\n",
      "1002,2023-05-16,1002,29.99\n",
      "1003,2023-05-17,1003,39.99\n",
      "1004,2023-05-18,1004,19.99\n",
      "1005,2023-05-19,1005,24.99\n",
      "1001,2023-05-20,1002,29.99\n",
      "1002,2023-05-21,1003,39.99\n",
      "1003,2023-05-22,1004,19.99\n",
      "1004,2023-05-23,1005,24.99\n",
      "1005,2023-05-24,1001,49.99\n",
      "1001,2023-05-25,1003,39.99\n",
      "1002,2023-05-26,1004,19.99\n",
      "1003,2023-05-27,1005,24.99\n",
      "1004,2023-05-28,1001,49.99\n",
      "1005,2023-05-29,1002,29.99\n",
      "1001,2023-05-30,1003,39.99\n",
      "1002,2023-05-31,1004,19.99\n",
      "1003,2023-06-01,1005,24.99\n",
      "1004,2023-06-02,1001,49.99\n",
      "1005,2023-06-03,1002,29.99\n",
      "1001,2023-06-04,1003,39.99\n",
      "1002,2023-06-05,1004,19.99\n",
      "1003,2023-06-06,1005,24.99\n",
      "1004,2023-06-07,1001,49.99\n",
      "1005,2023-06-08,1002,29.99\n",
      "1006,2023-06-01,1001,49.99\n",
      "1007,2023-06-02,1002,29.99\n",
      "1008,2023-06-03,1003,39.99\n",
      "1009,2023-06-04,1004,19.99\n",
      "1010,2023-06-05,1005,24.99\n",
      "1006,2023-06-06,1002,29.99\n",
      "1007,2023-06-07,1003,39.99\n",
      "1008,2023-06-08,1004,19.99\n",
      "1009,2023-06-09,1005,24.99\n",
      "1010,2023-06-10,1001,49.99\n",
      "1006,2023-06-11,1003,39.99\n",
      "1007,2023-06-12,1004,19.99\n",
      "1008,2023-06-13,1005,24.9"
     ]
    }
   ],
   "source": [
    "!hadoop fs -head /public/trendytech/datasets/cust_transf.csv"
   ]
  },
  {
   "cell_type": "code",
   "execution_count": 3,
   "id": "d4062259",
   "metadata": {},
   "outputs": [],
   "source": [
    "schema = 'customer_id integer,purchase_date date,product_id integer,amount float'"
   ]
  },
  {
   "cell_type": "code",
   "execution_count": 4,
   "id": "096a3559",
   "metadata": {},
   "outputs": [],
   "source": [
    "cust_trans_df = spark.read.schema(schema). \\\n",
    "option(\"dateFormat\",\"yyyy-MM-dd\"). \\\n",
    "csv(\"/public/trendytech/datasets/cust_transf.csv\")"
   ]
  },
  {
   "cell_type": "code",
   "execution_count": 5,
   "id": "c4da270a",
   "metadata": {},
   "outputs": [
    {
     "name": "stdout",
     "output_type": "stream",
     "text": [
      "+-----------+-------------+----------+------+\n",
      "|customer_id|purchase_date|product_id|amount|\n",
      "+-----------+-------------+----------+------+\n",
      "|       1001|   2023-05-15|      1001| 49.99|\n",
      "|       1002|   2023-05-16|      1002| 29.99|\n",
      "|       1003|   2023-05-17|      1003| 39.99|\n",
      "|       1004|   2023-05-18|      1004| 19.99|\n",
      "|       1005|   2023-05-19|      1005| 24.99|\n",
      "|       1001|   2023-05-20|      1002| 29.99|\n",
      "|       1002|   2023-05-21|      1003| 39.99|\n",
      "|       1003|   2023-05-22|      1004| 19.99|\n",
      "|       1004|   2023-05-23|      1005| 24.99|\n",
      "|       1005|   2023-05-24|      1001| 49.99|\n",
      "|       1001|   2023-05-25|      1003| 39.99|\n",
      "|       1002|   2023-05-26|      1004| 19.99|\n",
      "|       1003|   2023-05-27|      1005| 24.99|\n",
      "|       1004|   2023-05-28|      1001| 49.99|\n",
      "|       1005|   2023-05-29|      1002| 29.99|\n",
      "|       1001|   2023-05-30|      1003| 39.99|\n",
      "|       1002|   2023-05-31|      1004| 19.99|\n",
      "|       1003|   2023-06-01|      1005| 24.99|\n",
      "|       1004|   2023-06-02|      1001| 49.99|\n",
      "|       1005|   2023-06-03|      1002| 29.99|\n",
      "+-----------+-------------+----------+------+\n",
      "only showing top 20 rows\n",
      "\n"
     ]
    }
   ],
   "source": [
    "cust_trans_df.show()"
   ]
  },
  {
   "cell_type": "code",
   "execution_count": 6,
   "id": "54686a27",
   "metadata": {},
   "outputs": [
    {
     "name": "stdout",
     "output_type": "stream",
     "text": [
      "root\n",
      " |-- customer_id: integer (nullable = true)\n",
      " |-- purchase_date: date (nullable = true)\n",
      " |-- product_id: integer (nullable = true)\n",
      " |-- amount: float (nullable = true)\n",
      "\n"
     ]
    }
   ],
   "source": [
    "cust_trans_df.printSchema()"
   ]
  },
  {
   "cell_type": "code",
   "execution_count": 7,
   "id": "9147c079",
   "metadata": {},
   "outputs": [],
   "source": [
    "cached_filtered_cust_trans_df = cust_trans_df.filter((cust_trans_df.purchase_date>=\"2023-05-01\") & (cust_trans_df.purchase_date<\"2023-06-08\")).cache()"
   ]
  },
  {
   "cell_type": "code",
   "execution_count": null,
   "id": "8478bfb5",
   "metadata": {},
   "outputs": [],
   "source": [
    "aggf_cust_trans_df = cached_filtered_cust_trans_df.groupBy(\"product_id\").sum(\"amount\").withColumnRenamed(\"sum(amount)\",\"revenue\")"
   ]
  },
  {
   "cell_type": "code",
   "execution_count": null,
   "id": "582a2859",
   "metadata": {},
   "outputs": [],
   "source": [
    "top_selling_products = aggf_cust_trans_df.sort(\"revenue\", ascending= False).limit(10).show()"
   ]
  },
  {
   "cell_type": "code",
   "execution_count": null,
   "id": "8ea6d0fd",
   "metadata": {},
   "outputs": [],
   "source": [
    "aggf_custc_trans_df = cached_filtered_cust_trans_df.groupBy(\"customer_id\").sum(\"amount\").withColumnRenamed(\"sum(amount)\",\"revenue\")"
   ]
  },
  {
   "cell_type": "code",
   "execution_count": null,
   "id": "cd24e908",
   "metadata": {},
   "outputs": [],
   "source": [
    "top_customers = aggf_custc_trans_df.sort(\"revenue\", ascending =False).limit(10).show()"
   ]
  },
  {
   "cell_type": "code",
   "execution_count": null,
   "id": "7064a118",
   "metadata": {},
   "outputs": [],
   "source": [
    "#doing all the above using spark external table\n"
   ]
  },
  {
   "cell_type": "code",
   "execution_count": null,
   "id": "d90d632a",
   "metadata": {},
   "outputs": [],
   "source": [
    "spark.sql(\"use customer_transactions\")"
   ]
  },
  {
   "cell_type": "code",
   "execution_count": null,
   "id": "a26e3e26",
   "metadata": {},
   "outputs": [],
   "source": [
    "spark.sql(\"show tables\").show(truncate = False)"
   ]
  },
  {
   "cell_type": "code",
   "execution_count": null,
   "id": "f6c2700d",
   "metadata": {},
   "outputs": [],
   "source": [
    "spark.sql(\"create database customer_transactions_itv014453\")"
   ]
  },
  {
   "cell_type": "code",
   "execution_count": null,
   "id": "98631c36",
   "metadata": {},
   "outputs": [],
   "source": [
    "spark.sql(\"create table customer_transactions_itv014453.transaction_ext(customer_id integer,purchase_date date,product_id integer,transaction_amount double) using csv location '/public/trendytech/datasets/cust_transf.csv'\")"
   ]
  },
  {
   "cell_type": "code",
   "execution_count": null,
   "id": "3c0174fa",
   "metadata": {},
   "outputs": [],
   "source": [
    "spark.sql(\"use customer_transactions_itv014453\")"
   ]
  },
  {
   "cell_type": "code",
   "execution_count": null,
   "id": "499ce25f",
   "metadata": {},
   "outputs": [],
   "source": [
    "spark.sql(\"show tables\").show(truncate = False)"
   ]
  },
  {
   "cell_type": "code",
   "execution_count": 9,
   "id": "88170d8f",
   "metadata": {},
   "outputs": [
    {
     "name": "stdout",
     "output_type": "stream",
     "text": [
      "+----------+--------------------+\n",
      "|product_id|             revenue|\n",
      "+----------+--------------------+\n",
      "|      1003| 5.725592243903786E8|\n",
      "|      1001| 5.566826411928239E8|\n",
      "|      1002| 4.293836243948648E8|\n",
      "|      1004|2.8620802440276194E8|\n",
      "|      1005|2.7828564120213836E8|\n",
      "|      1015|  12537.909999999963|\n",
      "|      1014|  11492.909999999963|\n",
      "|      1013|  10447.909999999963|\n",
      "|      1012|   9402.909999999965|\n",
      "|      1011|   8357.909999999967|\n",
      "+----------+--------------------+\n",
      "\n"
     ]
    }
   ],
   "source": [
    "spark.sql(\"\"\"SELECT product_id,SUM(transaction_amount) AS revenue FROM customer_transactions_itv014453.transaction_ext\n",
    "WHERE purchase_date >= DATE '2023-05-01' AND purchase_date <= DATE '2023-06-08'\n",
    "GROUP BY product_id\n",
    "ORDER BY revenue DESC LIMIT 10\"\"\").show()"
   ]
  },
  {
   "cell_type": "code",
   "execution_count": 10,
   "id": "23882329",
   "metadata": {},
   "outputs": [
    {
     "name": "stdout",
     "output_type": "stream",
     "text": [
      "+-----------+--------------------+\n",
      "|customer_id|             revenue|\n",
      "+-----------+--------------------+\n",
      "|       1001| 3.180884580005335E8|\n",
      "|       1004| 3.101342580008687E8|\n",
      "|       1005| 2.624090580015123E8|\n",
      "|       1003|2.1468385800145328E8|\n",
      "|       1002|2.0672965800144076E8|\n",
      "|       1011|1.2724374111049211E8|\n",
      "|       1006|1.2723851611049213E8|\n",
      "|       1012| 1.113363861104608E8|\n",
      "|       1007|1.1133116111046082E8|\n",
      "|       1013| 9.542903111041903E7|\n",
      "+-----------+--------------------+\n",
      "\n"
     ]
    }
   ],
   "source": [
    "spark.sql(\"\"\"SELECT customer_id,SUM(transaction_amount) AS revenue FROM customer_transactions_itv014453.transaction_ext\n",
    "WHERE purchase_date >= DATE '2023-05-01' AND purchase_date <= DATE '2023-06-08'\n",
    "GROUP BY customer_id\n",
    "ORDER BY revenue DESC LIMIT 10\"\"\").show()"
   ]
  },
  {
   "cell_type": "code",
   "execution_count": 11,
   "id": "df59d04a",
   "metadata": {},
   "outputs": [
    {
     "data": {
      "text/html": [
       "<table border='1'>\n",
       "<tr><th></th></tr>\n",
       "</table>\n"
      ],
      "text/plain": [
       "++\n",
       "||\n",
       "++\n",
       "++"
      ]
     },
     "execution_count": 11,
     "metadata": {},
     "output_type": "execute_result"
    }
   ],
   "source": [
    "spark.sql(\"cache table customer_transactions_itv014453.transaction_ext\")"
   ]
  },
  {
   "cell_type": "code",
   "execution_count": 12,
   "id": "4b5a4c1a",
   "metadata": {},
   "outputs": [
    {
     "name": "stdout",
     "output_type": "stream",
     "text": [
      "+----------+--------------------+\n",
      "|product_id|             revenue|\n",
      "+----------+--------------------+\n",
      "|      1003| 5.725592243903785E8|\n",
      "|      1001|  5.56682641192824E8|\n",
      "|      1002| 4.293836243948648E8|\n",
      "|      1004| 2.862080244027619E8|\n",
      "|      1005|2.7828564120213836E8|\n",
      "|      1015|  12537.909999999963|\n",
      "|      1014|  11492.909999999963|\n",
      "|      1013|  10447.909999999963|\n",
      "|      1012|   9402.909999999965|\n",
      "|      1011|   8357.909999999967|\n",
      "+----------+--------------------+\n",
      "\n"
     ]
    }
   ],
   "source": [
    "spark.sql(\"\"\"SELECT product_id,SUM(transaction_amount) AS revenue FROM customer_transactions_itv014453.transaction_ext\n",
    "WHERE purchase_date >= DATE '2023-05-01' AND purchase_date <= DATE '2023-06-08'\n",
    "GROUP BY product_id\n",
    "ORDER BY revenue DESC LIMIT 10\"\"\").show()"
   ]
  },
  {
   "cell_type": "code",
   "execution_count": 13,
   "id": "e6dd76c6",
   "metadata": {},
   "outputs": [
    {
     "name": "stdout",
     "output_type": "stream",
     "text": [
      "+-----------+--------------------+\n",
      "|customer_id|             revenue|\n",
      "+-----------+--------------------+\n",
      "|       1001| 3.180884580005336E8|\n",
      "|       1004| 3.101342580008687E8|\n",
      "|       1005|2.6240905800151232E8|\n",
      "|       1003|2.1468385800145325E8|\n",
      "|       1002|2.0672965800144082E8|\n",
      "|       1011|1.2724374111049211E8|\n",
      "|       1006|1.2723851611049214E8|\n",
      "|       1012|1.1133638611046083E8|\n",
      "|       1007|1.1133116111046082E8|\n",
      "|       1013| 9.542903111041903E7|\n",
      "+-----------+--------------------+\n",
      "\n"
     ]
    }
   ],
   "source": [
    "spark.sql(\"\"\"SELECT customer_id,SUM(transaction_amount) AS revenue FROM customer_transactions_itv014453.transaction_ext\n",
    "WHERE purchase_date >= DATE '2023-05-01' AND purchase_date <= DATE '2023-06-08'\n",
    "GROUP BY customer_id\n",
    "ORDER BY revenue DESC LIMIT 10\"\"\").show()"
   ]
  },
  {
   "cell_type": "code",
   "execution_count": null,
   "id": "affc7329",
   "metadata": {},
   "outputs": [],
   "source": []
  }
 ],
 "metadata": {
  "kernelspec": {
   "display_name": "Pyspark 2",
   "language": "python",
   "name": "pyspark2"
  },
  "language_info": {
   "codemirror_mode": {
    "name": "ipython",
    "version": 3
   },
   "file_extension": ".py",
   "mimetype": "text/x-python",
   "name": "python",
   "nbconvert_exporter": "python",
   "pygments_lexer": "ipython3",
   "version": "3.6.12"
  }
 },
 "nbformat": 4,
 "nbformat_minor": 5
}
