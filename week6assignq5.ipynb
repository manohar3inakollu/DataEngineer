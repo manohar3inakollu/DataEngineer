{
 "cells": [
  {
   "cell_type": "code",
   "execution_count": 1,
   "id": "988ae560",
   "metadata": {},
   "outputs": [],
   "source": [
    "from pyspark.sql import SparkSession\n",
    "import getpass\n",
    "username = getpass.getuser()\n",
    "spark = SparkSession. \\\n",
    "builder. \\\n",
    "config('spark.ui.port','0'). \\\n",
    "config(\"spark.sql.warehouse.dir\", f\"/{username}/warehouse\"). \\\n",
    "enableHiveSupport(). \\\n",
    "master('yarn'). \\\n",
    "getOrCreate()"
   ]
  },
  {
   "cell_type": "raw",
   "id": "0313bcd1",
   "metadata": {},
   "source": [
    "Youhaveahospitaldatasetwiththefollowingfields:\n",
    "    ●patient_id(integer):Uniqueidentifierforeachpatient.\n",
    "    ●admission_date(date):Thedatethepatientwasadmittedtothehospital.(MM-dd-yyyy)\n",
    "    ●discharge_date(date):Thedatethepatientwasdischargedfromthehospital.(yyyy-MM-dd)\n",
    "    ●diagnosis(string):Thediagnosedmedicalconditionofthepatient.\n",
    "    ●doctor_id(integer):Theidentifierofthedoctorresponsibleforthepatient'scare.\n",
    "    ●total_cost(float):Thetotalcostofthehospitalstayforthepatient.\n",
    "UsingPySpark,loadthedataintoaDataframeandperformthefollowingoperationsonthehospitaldataset\n",
    "(/public/trendytech/datasets/hospital.csv):\n",
    "    1.Dropthe\"doctor_id\"columnfromthedataset.\n",
    "    2.Renamethe\"total_cost\"columnto\"hospital_bill\".\n",
    "    3.Addanewcolumncalled\"duration_of_stay\"thatrepresentsthenumberofdaysapatientstayedinthehospital.(hint:Thedurationshouldbecalculatedasthedifferencebetweenthe\"discharge_date\"and\"admission_date\"columns.)\n",
    "    4.Createanewcolumncalled\"adjusted_total_cost\"thatcalculatestheadjustedtotalcostbasedonthediagnosisasfollows:\n",
    "        Ifthediagnosisis\"HeartAttack\",multiplythehospital_billby1.5Ifthediagnosisis\"Appendicitis\",multiplythehospital_billby1.2.Foranyotherdiagnosis,keepthehospital_billasitis.\n",
    "    5.Selectthe\"patient_id\",\"diagnosis\",\"hospital_bill\",and\"adjusted_total_cost\"columns."
   ]
  },
  {
   "cell_type": "code",
   "execution_count": 2,
   "id": "29dbd321",
   "metadata": {},
   "outputs": [],
   "source": [
    "schema = 'patient_id integer,admission_date date,discharge_date date,diagnosis string,doctor_id integer,total_cost float'\n",
    "hospital_df = spark.read.schema(schema). \\\n",
    "option(\"dateFormat\",\"MM-dd-yyyy\"). \\\n",
    "csv(\"/public/trendytech/datasets/hospital.csv\",header=\"true\")"
   ]
  },
  {
   "cell_type": "code",
   "execution_count": 3,
   "id": "76679e2e",
   "metadata": {},
   "outputs": [
    {
     "name": "stdout",
     "output_type": "stream",
     "text": [
      "+----------+--------------+--------------+-------------+---------+----------+\n",
      "|patient_id|admission_date|discharge_date|    diagnosis|doctor_id|total_cost|\n",
      "+----------+--------------+--------------+-------------+---------+----------+\n",
      "|         1|    2022-01-01|    2022-01-10|    Pneumonia|      101|    5000.0|\n",
      "|         2|    2022-02-05|    2022-02-09| Appendicitis|      102|    7000.0|\n",
      "|         3|    2022-03-12|    2022-03-18|Fractured Arm|      103|    3500.0|\n",
      "|         4|    2022-04-02|    2022-04-08| Heart Attack|      104|   15000.0|\n",
      "|         5|    2022-05-05|    2022-05-07|    Influenza|      105|    2500.0|\n",
      "+----------+--------------+--------------+-------------+---------+----------+\n",
      "only showing top 5 rows\n",
      "\n"
     ]
    }
   ],
   "source": [
    "hospital_df.show(5)"
   ]
  },
  {
   "cell_type": "code",
   "execution_count": 4,
   "id": "a47a3462",
   "metadata": {},
   "outputs": [],
   "source": [
    "hospital_drop_doctor_id = hospital_df.drop(\"doctor_id\") "
   ]
  },
  {
   "cell_type": "code",
   "execution_count": 5,
   "id": "c488c3d5",
   "metadata": {},
   "outputs": [
    {
     "name": "stdout",
     "output_type": "stream",
     "text": [
      "+----------+--------------+--------------+-------------+----------+\n",
      "|patient_id|admission_date|discharge_date|    diagnosis|total_cost|\n",
      "+----------+--------------+--------------+-------------+----------+\n",
      "|         1|    2022-01-01|    2022-01-10|    Pneumonia|    5000.0|\n",
      "|         2|    2022-02-05|    2022-02-09| Appendicitis|    7000.0|\n",
      "|         3|    2022-03-12|    2022-03-18|Fractured Arm|    3500.0|\n",
      "|         4|    2022-04-02|    2022-04-08| Heart Attack|   15000.0|\n",
      "|         5|    2022-05-05|    2022-05-07|    Influenza|    2500.0|\n",
      "+----------+--------------+--------------+-------------+----------+\n",
      "only showing top 5 rows\n",
      "\n"
     ]
    }
   ],
   "source": [
    "hospital_drop_doctor_id.show(5)"
   ]
  },
  {
   "cell_type": "code",
   "execution_count": 6,
   "id": "66979162",
   "metadata": {},
   "outputs": [],
   "source": [
    "hospital_col_rename = hospital_drop_doctor_id.withColumnRenamed(\"total_cost\",\"hospital_bill\")"
   ]
  },
  {
   "cell_type": "code",
   "execution_count": 7,
   "id": "bdb00c37",
   "metadata": {},
   "outputs": [
    {
     "name": "stdout",
     "output_type": "stream",
     "text": [
      "+----------+--------------+--------------+-------------+-------------+\n",
      "|patient_id|admission_date|discharge_date|    diagnosis|hospital_bill|\n",
      "+----------+--------------+--------------+-------------+-------------+\n",
      "|         1|    2022-01-01|    2022-01-10|    Pneumonia|       5000.0|\n",
      "|         2|    2022-02-05|    2022-02-09| Appendicitis|       7000.0|\n",
      "|         3|    2022-03-12|    2022-03-18|Fractured Arm|       3500.0|\n",
      "|         4|    2022-04-02|    2022-04-08| Heart Attack|      15000.0|\n",
      "|         5|    2022-05-05|    2022-05-07|    Influenza|       2500.0|\n",
      "+----------+--------------+--------------+-------------+-------------+\n",
      "only showing top 5 rows\n",
      "\n"
     ]
    }
   ],
   "source": [
    "hospital_col_rename.show(5)"
   ]
  },
  {
   "cell_type": "code",
   "execution_count": 8,
   "id": "d919fb74",
   "metadata": {},
   "outputs": [],
   "source": [
    "from pyspark.sql.functions import expr\n",
    "hospital_col_added = hospital_col_rename.withColumn(\"duration_of_stay\",expr(\"datediff(discharge_date,admission_date)\"))"
   ]
  },
  {
   "cell_type": "code",
   "execution_count": 9,
   "id": "d08345b7",
   "metadata": {},
   "outputs": [
    {
     "name": "stdout",
     "output_type": "stream",
     "text": [
      "+----------+--------------+--------------+-------------+-------------+----------------+\n",
      "|patient_id|admission_date|discharge_date|    diagnosis|hospital_bill|duration_of_stay|\n",
      "+----------+--------------+--------------+-------------+-------------+----------------+\n",
      "|         1|    2022-01-01|    2022-01-10|    Pneumonia|       5000.0|               9|\n",
      "|         2|    2022-02-05|    2022-02-09| Appendicitis|       7000.0|               4|\n",
      "|         3|    2022-03-12|    2022-03-18|Fractured Arm|       3500.0|               6|\n",
      "|         4|    2022-04-02|    2022-04-08| Heart Attack|      15000.0|               6|\n",
      "|         5|    2022-05-05|    2022-05-07|    Influenza|       2500.0|               2|\n",
      "+----------+--------------+--------------+-------------+-------------+----------------+\n",
      "only showing top 5 rows\n",
      "\n"
     ]
    }
   ],
   "source": [
    "hospital_col_added.show(5)"
   ]
  },
  {
   "cell_type": "code",
   "execution_count": 14,
   "id": "55d8e059",
   "metadata": {},
   "outputs": [],
   "source": [
    "hospital_bill_adjusted = hospital_col_added.withColumn(\"adjusted_total_cost\",expr(\"CASE WHEN diagnosis LIKE 'Heart Attack' THEN hospital_bill*1.5 WHEN diagnosis LIKE 'Appendicitis' THEN hospital_bill*1.2 ELSE hospital_bill END\"))"
   ]
  },
  {
   "cell_type": "code",
   "execution_count": 15,
   "id": "029775d8",
   "metadata": {},
   "outputs": [
    {
     "name": "stdout",
     "output_type": "stream",
     "text": [
      "+----------+--------------+--------------+-------------+-------------+----------------+-------------------+\n",
      "|patient_id|admission_date|discharge_date|    diagnosis|hospital_bill|duration_of_stay|adjusted_total_cost|\n",
      "+----------+--------------+--------------+-------------+-------------+----------------+-------------------+\n",
      "|         1|    2022-01-01|    2022-01-10|    Pneumonia|       5000.0|               9|             5000.0|\n",
      "|         2|    2022-02-05|    2022-02-09| Appendicitis|       7000.0|               4|             8400.0|\n",
      "|         3|    2022-03-12|    2022-03-18|Fractured Arm|       3500.0|               6|             3500.0|\n",
      "|         4|    2022-04-02|    2022-04-08| Heart Attack|      15000.0|               6|            22500.0|\n",
      "|         5|    2022-05-05|    2022-05-07|    Influenza|       2500.0|               2|             2500.0|\n",
      "+----------+--------------+--------------+-------------+-------------+----------------+-------------------+\n",
      "only showing top 5 rows\n",
      "\n"
     ]
    }
   ],
   "source": [
    "hospital_bill_adjusted.show(5)"
   ]
  },
  {
   "cell_type": "code",
   "execution_count": 17,
   "id": "6cf89aec",
   "metadata": {},
   "outputs": [
    {
     "data": {
      "text/html": [
       "<table border='1'>\n",
       "<tr><th>patient_id</th><th>diagnosis</th><th>hospital_bill</th></tr>\n",
       "<tr><td>1</td><td>Pneumonia</td><td>5000.0</td></tr>\n",
       "<tr><td>2</td><td>Appendicitis</td><td>7000.0</td></tr>\n",
       "<tr><td>3</td><td>Fractured Arm</td><td>3500.0</td></tr>\n",
       "<tr><td>4</td><td>Heart Attack</td><td>15000.0</td></tr>\n",
       "<tr><td>5</td><td>Influenza</td><td>2500.0</td></tr>\n",
       "<tr><td>6</td><td>Appendicitis</td><td>8000.0</td></tr>\n",
       "<tr><td>7</td><td>Pneumonia</td><td>5500.0</td></tr>\n",
       "<tr><td>8</td><td>Heart Attack</td><td>20000.0</td></tr>\n",
       "<tr><td>9</td><td>Fractured Leg</td><td>6000.0</td></tr>\n",
       "<tr><td>10</td><td>Appendicitis</td><td>7500.0</td></tr>\n",
       "<tr><td>11</td><td>Influenza</td><td>2800.0</td></tr>\n",
       "<tr><td>12</td><td>Pneumonia</td><td>6000.0</td></tr>\n",
       "<tr><td>13</td><td>Heart Attack</td><td>18000.0</td></tr>\n",
       "<tr><td>14</td><td>Appendicitis</td><td>7200.0</td></tr>\n",
       "<tr><td>15</td><td>Fractured Arm</td><td>3800.0</td></tr>\n",
       "<tr><td>16</td><td>Influenza</td><td>2700.0</td></tr>\n",
       "<tr><td>17</td><td>Heart Attack</td><td>16000.0</td></tr>\n",
       "<tr><td>18</td><td>Pneumonia</td><td>4800.0</td></tr>\n",
       "<tr><td>19</td><td>Fractured Leg</td><td>6500.0</td></tr>\n",
       "<tr><td>20</td><td>Appendicitis</td><td>7800.0</td></tr>\n",
       "</table>\n",
       "only showing top 20 rows\n"
      ],
      "text/plain": [
       "+----------+-------------+-------------+\n",
       "|patient_id|    diagnosis|hospital_bill|\n",
       "+----------+-------------+-------------+\n",
       "|         1|    Pneumonia|       5000.0|\n",
       "|         2| Appendicitis|       7000.0|\n",
       "|         3|Fractured Arm|       3500.0|\n",
       "|         4| Heart Attack|      15000.0|\n",
       "|         5|    Influenza|       2500.0|\n",
       "|         6| Appendicitis|       8000.0|\n",
       "|         7|    Pneumonia|       5500.0|\n",
       "|         8| Heart Attack|      20000.0|\n",
       "|         9|Fractured Leg|       6000.0|\n",
       "|        10| Appendicitis|       7500.0|\n",
       "|        11|    Influenza|       2800.0|\n",
       "|        12|    Pneumonia|       6000.0|\n",
       "|        13| Heart Attack|      18000.0|\n",
       "|        14| Appendicitis|       7200.0|\n",
       "|        15|Fractured Arm|       3800.0|\n",
       "|        16|    Influenza|       2700.0|\n",
       "|        17| Heart Attack|      16000.0|\n",
       "|        18|    Pneumonia|       4800.0|\n",
       "|        19|Fractured Leg|       6500.0|\n",
       "|        20| Appendicitis|       7800.0|\n",
       "+----------+-------------+-------------+\n",
       "only showing top 20 rows"
      ]
     },
     "execution_count": 17,
     "metadata": {},
     "output_type": "execute_result"
    }
   ],
   "source": [
    "hospital_bill_adjusted.select(\"patient_id\",\"diagnosis\",\"hospital_bill\")"
   ]
  },
  {
   "cell_type": "code",
   "execution_count": null,
   "id": "3dc34b58",
   "metadata": {},
   "outputs": [],
   "source": []
  }
 ],
 "metadata": {
  "kernelspec": {
   "display_name": "Pyspark 3",
   "language": "python",
   "name": "pyspark3"
  },
  "language_info": {
   "codemirror_mode": {
    "name": "ipython",
    "version": 3
   },
   "file_extension": ".py",
   "mimetype": "text/x-python",
   "name": "python",
   "nbconvert_exporter": "python",
   "pygments_lexer": "ipython3",
   "version": "3.6.12"
  }
 },
 "nbformat": 4,
 "nbformat_minor": 5
}
